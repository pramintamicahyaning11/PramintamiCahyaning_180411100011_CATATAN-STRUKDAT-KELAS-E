{
 "cells": [
  {
   "cell_type": "code",
   "execution_count": 1,
   "metadata": {},
   "outputs": [
    {
     "name": "stdout",
     "output_type": "stream",
     "text": [
      "found the search number.\n",
      "1\n",
      "1\n"
     ]
    }
   ],
   "source": [
    "#linear Search\n",
    "search = 2\n",
    "mylist = [1,2,3,4,5,6]\n",
    "position = len(mylist)-1\n",
    "last = 0\n",
    "iterasi = 0\n",
    "found = False\n",
    "while position >= last and not found:\n",
    "    if mylist[position] == search:\n",
    "        found = True\n",
    "    else:\n",
    "        position = position - 1\n",
    "iterasi = iterasi + 1\n",
    "if found:\n",
    "    print(\"found the search number.\")\n",
    "    print(position)\n",
    "    print(iterasi)\n",
    "else:\n",
    "    print(\"Did not find the seacrh number.\")"
   ]
  },
  {
   "cell_type": "code",
   "execution_count": 2,
   "metadata": {},
   "outputs": [
    {
     "name": "stdout",
     "output_type": "stream",
     "text": [
      "Did not find the seacrh number.\n",
      "found the search number.\n",
      "1\n"
     ]
    }
   ],
   "source": [
    "#linear Search\n",
    "search = 2\n",
    "mylist = [1,2,3,4,5,6]\n",
    "position =0\n",
    "last = len(mylist)-1\n",
    "found = False\n",
    "while position <= last and not found:\n",
    "    if mylist[position] == search:\n",
    "        found = True\n",
    "    else:\n",
    "        position = position + 1\n",
    "    if found:\n",
    "        print(\"found the search number.\")\n",
    "        print(position)\n",
    "    else:\n",
    "        print(\"Did not find the seacrh number.\")"
   ]
  },
  {
   "cell_type": "code",
   "execution_count": 3,
   "metadata": {},
   "outputs": [
    {
     "name": "stdout",
     "output_type": "stream",
     "text": [
      "found the search number.\n",
      "1\n",
      "2\n"
     ]
    }
   ],
   "source": [
    "#linear Search\n",
    "def deret (search, mylist):\n",
    "    position = 0\n",
    "    last = len(mylist)-1\n",
    "    iterasi = 0\n",
    "    found = False\n",
    "    while position <= last and not found:\n",
    "        if mylist[position] == search:\n",
    "            found = True\n",
    "        else:\n",
    "            position = position + 1\n",
    "        iterasi += 1\n",
    "    if found:\n",
    "        print(\"found the search number.\")\n",
    "        print(position)\n",
    "    else:\n",
    "        print(\"Did not find the seacrh number.\")\n",
    "    print(iterasi)\n",
    "deret(2,[1,2,3,4,5,6])"
   ]
  },
  {
   "cell_type": "code",
   "execution_count": 4,
   "metadata": {},
   "outputs": [
    {
     "name": "stdout",
     "output_type": "stream",
     "text": [
      "Did not find the seacrh number. \n",
      "Did not find the seacrh number. \n",
      "Did not find the seacrh number. \n",
      "Did not find the seacrh number. \n",
      "found the search number.\n",
      "1\n"
     ]
    }
   ],
   "source": [
    "#linear Search\n",
    "def deret (search, mylist):\n",
    "    position = len(mylist)- 1\n",
    "    last = 0\n",
    "    found = False\n",
    "    while position >= last and not found:\n",
    "        if mylist[position] == search:\n",
    "            found = True\n",
    "        else:\n",
    "            position = position - 1\n",
    "        if found:\n",
    "            print(\"found the search number.\")\n",
    "            print(position)\n",
    "        else:\n",
    "            print(\"Did not find the seacrh number. \")\n",
    "deret(2,[1,2,3,4,5,6])"
   ]
  },
  {
   "cell_type": "code",
   "execution_count": 5,
   "metadata": {},
   "outputs": [
    {
     "name": "stdout",
     "output_type": "stream",
     "text": [
      "Did not find the seacrh number.\n",
      "found the search number.\n",
      "1\n",
      "Did not find the seacrh number.\n",
      "Did not find the seacrh number.\n",
      "Did not find the seacrh number.\n",
      "jumlah perulangan  4\n"
     ]
    }
   ],
   "source": [
    "search = 2\n",
    "mylist = [1,2,3,4,5,6]\n",
    "position =0\n",
    "last = len(mylist)-1\n",
    "found = False\n",
    "for position in range(len(mylist) - 1):\n",
    "    if mylist[position] == search:\n",
    "        found = True\n",
    "        print(\"found the search number.\")\n",
    "        print(position)\n",
    "    else:\n",
    "        print(\"Did not find the seacrh number.\")\n",
    "print(\"jumlah perulangan \", position)"
   ]
  },
  {
   "cell_type": "code",
   "execution_count": 6,
   "metadata": {},
   "outputs": [
    {
     "name": "stdout",
     "output_type": "stream",
     "text": [
      "Angka ditemukan!\n",
      "posisi angka yang ditemukan adalah 1\n",
      "Langkah yang sudah di ambil dalam menemukan adalah 1 langkah\n"
     ]
    }
   ],
   "source": [
    "#binary search\n",
    "def binary_search(angka,listku):\n",
    "  listku.sort() #Penyortiran List\n",
    "  langkah = 0\n",
    "  ketemu = False\n",
    "  awal = 0\n",
    "  akhir = len(listku)-1\n",
    "  while awal <= akhir and not ketemu:\n",
    "    tengah = (awal+akhir)//2\n",
    "    if listku[tengah] == angka:\n",
    "      ketemu = True\n",
    "    elif angka > tengah:\n",
    "      awal = tengah+1\n",
    "    else:\n",
    "      akhir = tengah-1\n",
    "    langkah+=1\n",
    "  if ketemu:\n",
    "    print (\"Angka ditemukan!\")\n",
    "    print (\"posisi angka yang ditemukan adalah %s\" % str(awal+1))\n",
    "  else:\n",
    "    print (\"Angka yang anda maksudkan tidak ditemukan!\")\n",
    "  print (\"Langkah yang sudah di ambil dalam menemukan adalah %s langkah\" % langkah)\n",
    "\n",
    "binary_search(4,[1,1,2,6,7,8,9,3,4])"
   ]
  },
  {
   "cell_type": "code",
   "execution_count": 7,
   "metadata": {},
   "outputs": [
    {
     "name": "stdout",
     "output_type": "stream",
     "text": [
      "found the search number.\n",
      "2\n"
     ]
    }
   ],
   "source": [
    "search = 3\n",
    "mylist = [3,1,4,5,8,7,9,11,2,13,12,15,18,20]\n",
    "mylist.sort()\n",
    "awal = 0\n",
    "akhir = len(mylist)-1\n",
    "iterasi = 0\n",
    "found = False\n",
    "while awal <= akhir and not found:\n",
    "    tengah = (awal+akhir)//2\n",
    "    if mylist[tengah] == search:\n",
    "        found = True\n",
    "    else:\n",
    "        if search < mylist[tengah]:\n",
    "            akhir = tengah - 1\n",
    "        else:\n",
    "            awal = tengah + 1\n",
    "    iterasi += 1\n",
    "if found:\n",
    "    print(\"found the search number.\")\n",
    "    print(iterasi)\n",
    "else:\n",
    "    print(\"Did not find the seacrh number.\")"
   ]
  },
  {
   "cell_type": "code",
   "execution_count": 8,
   "metadata": {},
   "outputs": [
    {
     "name": "stdout",
     "output_type": "stream",
     "text": [
      "found the search number.\n",
      "12\n"
     ]
    }
   ],
   "source": [
    "search = 4\n",
    "mylist = [3,1,4,5,8,7,9,11,2,13,12,15,18,20]\n",
    "position = len(mylist)-1\n",
    "last = 0\n",
    "iterasi = 0\n",
    "found = False\n",
    "while position >= last and not found:\n",
    "    if mylist[position] == search:\n",
    "        found = True\n",
    "    else:\n",
    "        position = position - 1\n",
    "    iterasi = iterasi + 1\n",
    "if found:\n",
    "    print(\"found the search number.\")\n",
    "    print(iterasi)\n",
    "else:\n",
    "    print(\"Did not find the seacrh number.\")"
   ]
  },
  {
   "cell_type": "code",
   "execution_count": 9,
   "metadata": {},
   "outputs": [
    {
     "name": "stdout",
     "output_type": "stream",
     "text": [
      "found the search number.\n",
      "2\n"
     ]
    }
   ],
   "source": [
    "#binary search\n",
    "def binear (search, mylist):\n",
    "    mylist.sort()\n",
    "    awal = 0\n",
    "    akhir = len(mylist)-1\n",
    "    tengah = (awal+akhir)//2\n",
    "    iterasi = 0\n",
    "    found = False\n",
    "    while awal <= akhir and not found:\n",
    "        tengah = (awal+akhir)//2\n",
    "        if mylist[tengah] == search:\n",
    "            found = True\n",
    "        else:\n",
    "            if search < mylist[tengah]:\n",
    "                akhir = tengah - 1\n",
    "            else:\n",
    "                awal = tengah + 1\n",
    "        iterasi += 1\n",
    "    if found:\n",
    "        print(\"found the search number.\")\n",
    "        print(iterasi)\n",
    "    else:\n",
    "        print(\"Did not find the seacrh number.\")\n",
    "binear(3, [3,1,4,5,8,7,9,11,2,13,12,15,18,20])"
   ]
  },
  {
   "cell_type": "code",
   "execution_count": 10,
   "metadata": {},
   "outputs": [
    {
     "name": "stdout",
     "output_type": "stream",
     "text": [
      "found the search number.\n",
      "3\n"
     ]
    }
   ],
   "source": [
    "search = 3\n",
    "mylist = [3,1,4,5,8,7,9,11,2,13,12,15,18,20]\n",
    "mylist.sort()\n",
    "awal = 0\n",
    "akhir = len(mylist)-1\n",
    "tengah = (awal+akhir)//2\n",
    "iterasi = 0\n",
    "found = False\n",
    "while awal <= akhir and not found:\n",
    "    tengah = (awal+akhir)//2\n",
    "    if mylist[tengah] == search:\n",
    "        found = True\n",
    "    else:\n",
    "        if search < mylist[tengah]:\n",
    "            akhir = tengah + 1\n",
    "        else:\n",
    "            awal = tengah - 1\n",
    "    iterasi += 1\n",
    "if found:\n",
    "    print(\"found the search number.\")\n",
    "    print(iterasi)\n",
    "else:\n",
    "    print(\"Did not find the seacrh number.\")"
   ]
  },
  {
   "cell_type": "code",
   "execution_count": null,
   "metadata": {},
   "outputs": [],
   "source": []
  }
 ],
 "metadata": {
  "kernelspec": {
   "display_name": "Python 3",
   "language": "python",
   "name": "python3"
  },
  "language_info": {
   "codemirror_mode": {
    "name": "ipython",
    "version": 3
   },
   "file_extension": ".py",
   "mimetype": "text/x-python",
   "name": "python",
   "nbconvert_exporter": "python",
   "pygments_lexer": "ipython3",
   "version": "3.6.5"
  }
 },
 "nbformat": 4,
 "nbformat_minor": 2
}
