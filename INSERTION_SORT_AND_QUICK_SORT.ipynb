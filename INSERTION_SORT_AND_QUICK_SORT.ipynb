{
 "cells": [
  {
   "cell_type": "code",
   "execution_count": 1,
   "metadata": {},
   "outputs": [
    {
     "name": "stdout",
     "output_type": "stream",
     "text": [
      "[5, 2, 4, 6, 1, 3]\n",
      "[2, 5, 4, 6, 1, 3]\n",
      "[2, 4, 5, 6, 1, 3]\n",
      "[2, 4, 5, 6, 1, 3]\n",
      "[1, 2, 4, 5, 6, 3]\n",
      "a [1, 2, 3, 4, 5, 6]\n"
     ]
    }
   ],
   "source": [
    "#Insertion Sort Menaik\n",
    "a = [5,2,4,6,1,3]\n",
    "for i in range(1, len(a)):\n",
    "    value = a[i]\n",
    "    hold = i\n",
    "    print(a)\n",
    "    while hold > 0 and a[hold - 1] > value:\n",
    "        a[hold] = a[hold-1]\n",
    "        hold -= 1\n",
    "    a[hold]=value\n",
    "print(\"a\", a)"
   ]
  },
  {
   "cell_type": "code",
   "execution_count": 2,
   "metadata": {},
   "outputs": [
    {
     "name": "stdout",
     "output_type": "stream",
     "text": [
      "[5, 2, 4, 6, 1, 3]\n",
      "[5, 2, 4, 6, 1, 3]\n",
      "[5, 4, 2, 6, 1, 3]\n",
      "[6, 5, 4, 2, 1, 3]\n",
      "[6, 5, 4, 2, 1, 3]\n",
      "a [6, 5, 4, 3, 2, 1]\n"
     ]
    }
   ],
   "source": [
    "#Insertion Sort Menurun\n",
    "a = [5,2,4,6,1,3]\n",
    "for i in range(1,len(a)):\n",
    "    value = a[i]\n",
    "    hold = i\n",
    "    print(a)\n",
    "    while hold > 0 and a[hold - 1] < value:\n",
    "        a[hold] = a[hold-1]\n",
    "        hold -= 1\n",
    "    a[hold]=value\n",
    "print(\"a\", a)"
   ]
  },
  {
   "cell_type": "code",
   "execution_count": 3,
   "metadata": {},
   "outputs": [
    {
     "name": "stdout",
     "output_type": "stream",
     "text": [
      "[0, 6, 500, 4, 56, 2, 1, 100]\n",
      "[0, 6, 4, 56, 2, 1, 100, 500]\n",
      "[0, 1, 4, 56, 2, 6, 100, 500]\n",
      "[0, 1, 4, 2, 6, 56, 100, 500]\n",
      "[0, 1, 2, 4, 6, 56, 100, 500]\n",
      "[0, 1, 2, 4, 6, 56, 100, 500]\n"
     ]
    }
   ],
   "source": [
    "#Quick Sort Menaik\n",
    "def quicksortawal(a):\n",
    "    quicksort(a,0,len(a)-1)\n",
    "\n",
    "def quicksort(a,start,end):\n",
    "    if start < end:\n",
    "        pindex = partition(a,start,end)\n",
    "        quicksort(a,start,pindex-1)\n",
    "        quicksort(a,pindex+1,end)\n",
    "        \n",
    "def partition(a,start,end):\n",
    "    pivot = a[end]\n",
    "    pindex = start\n",
    "    for i in range(start,end):\n",
    "        if a[i] <= pivot:\n",
    "            a[i],a[pindex] = a[pindex],a[i]\n",
    "            pindex += 1\n",
    "    a[pindex],a[end]=a[end],a[pindex]\n",
    "    print(a)\n",
    "    return pindex\n",
    "\n",
    "a=[100,6,500,4,56,2,1,0]\n",
    "quicksortawal(a)\n",
    "print(a)"
   ]
  },
  {
   "cell_type": "code",
   "execution_count": 4,
   "metadata": {},
   "outputs": [
    {
     "name": "stdout",
     "output_type": "stream",
     "text": [
      "[100, 6, 500, 4, 56, 2, 1, 0]\n",
      "[100, 6, 500, 4, 56, 2, 1, 0]\n",
      "[100, 6, 500, 4, 56, 2, 1, 0]\n",
      "[100, 500, 56, 4, 6, 2, 1, 0]\n",
      "[500, 100, 56, 4, 6, 2, 1, 0]\n",
      "[500, 100, 56, 6, 4, 2, 1, 0]\n",
      "[500, 100, 56, 6, 4, 2, 1, 0]\n"
     ]
    }
   ],
   "source": [
    "#Quick Sort Menurun\n",
    "def quicksortawal(a):\n",
    "    quicksort(a,0,len(a)-1)\n",
    "\n",
    "def quicksort(a,start,end):\n",
    "    if start < end:\n",
    "        pindex = partition(a,start,end)\n",
    "        quicksort(a,start,pindex-1)\n",
    "        quicksort(a,pindex+1,end)\n",
    "        \n",
    "def partition(a,start,end):\n",
    "    pivot = a[end]\n",
    "    pindex = start\n",
    "    for i in range(start,end):\n",
    "        if a[i] >= pivot:\n",
    "            a[i],a[pindex] = a[pindex],a[i]\n",
    "            pindex += 1\n",
    "    a[pindex],a[end]=a[end],a[pindex]\n",
    "    print(a)\n",
    "    return pindex\n",
    "\n",
    "a=[100,6,500,4,56,2,1,0]\n",
    "quicksortawal(a)\n",
    "print(a)"
   ]
  },
  {
   "cell_type": "code",
   "execution_count": 5,
   "metadata": {},
   "outputs": [
    {
     "name": "stdout",
     "output_type": "stream",
     "text": [
      "[1, 6, 0, 4, 56, 2, 100, 500]\n",
      "[0, 1, 6, 4, 56, 2, 100, 500]\n",
      "[0, 1, 2, 4, 6, 56, 100, 500]\n",
      "[0, 1, 2, 4, 6, 56, 100, 500]\n",
      "[0, 1, 2, 4, 6, 56, 100, 500]\n"
     ]
    }
   ],
   "source": [
    "#Quick Sort Pivot di awal\n",
    "def quicksortawal(a):\n",
    "    quicksort(a,0,len(a)-1)\n",
    "\n",
    "def quicksort(a,start,end):\n",
    "    if start < end:\n",
    "        pindex = partition(a,start,end)\n",
    "        quicksort(a,start,pindex-1)\n",
    "        quicksort(a,pindex+1,end)\n",
    "        \n",
    "def partition(a,start,end):\n",
    "    pivot = a[start]\n",
    "    pindex = end\n",
    "    for i in range(end,start,-1):\n",
    "        if a[i] >= pivot:\n",
    "            a[i],a[pindex] = a[pindex],a[i]\n",
    "            pindex -= 1\n",
    "    a[pindex],a[start]=a[start],a[pindex]\n",
    "    print(a)\n",
    "    return pindex\n",
    "\n",
    "a=[100,6,500,4,56,2,1,0]\n",
    "quicksortawal(a)\n",
    "print(a)"
   ]
  },
  {
   "cell_type": "code",
   "execution_count": 6,
   "metadata": {},
   "outputs": [
    {
     "name": "stdout",
     "output_type": "stream",
     "text": [
      "[100, 6, 500, 56, 2, 1, 0] 4\n",
      "[100, 500, 56, 4, 2, 1, 0] 6\n",
      "[100, 56, 6, 4, 2, 1, 0] 500\n",
      "[500, 56, 6, 4, 2, 1, 0] 100\n",
      "[500, 100, 56, 6, 4, 2, 0] 1\n",
      "[500, 100, 56, 6, 4, 2, 1, 0]\n"
     ]
    }
   ],
   "source": [
    "#Quick Sort Pivot di tengah menurun\n",
    "def quicksortawal(a):\n",
    "    quicksort(a,0,len(a)-1)\n",
    "\n",
    "def quicksort(a,start,end):\n",
    "    if start < end:\n",
    "        pindex = partition(a,start,end)\n",
    "        quicksort(a,start,pindex-1)\n",
    "        quicksort(a,pindex+1,end)\n",
    "        \n",
    "def partition(a,start,end):\n",
    "    tengah = (start+end)//2\n",
    "    pivot = a.pop(tengah)\n",
    "    leftmark = start\n",
    "    rightmark = end-1\n",
    "    done = False\n",
    "    while not done:\n",
    "        print(a,pivot)\n",
    "        while leftmark <= rightmark and a[leftmark] >= pivot:\n",
    "            leftmark = leftmark + 1\n",
    "        while a[rightmark] <= pivot and rightmark >= leftmark:\n",
    "            rightmark = rightmark -1\n",
    "        if rightmark < leftmark:\n",
    "            done = True\n",
    "        else:\n",
    "            temp = a[leftmark]\n",
    "            a[leftmark] = a[rightmark]\n",
    "            a[rightmark] = temp\n",
    "    a.insert(leftmark,pivot)\n",
    "    return leftmark\n",
    "\n",
    "a=[100,6,500,4,56,2,1,0]\n",
    "quicksortawal(a)\n",
    "print(a)\n"
   ]
  },
  {
   "cell_type": "code",
   "execution_count": 7,
   "metadata": {},
   "outputs": [
    {
     "name": "stdout",
     "output_type": "stream",
     "text": [
      "[100, 6, 500, 56, 2, 1, 0] 4\n",
      "[0, 6, 500, 56, 2, 1, 100] 4\n",
      "[0, 1, 500, 56, 2, 6, 100] 4\n",
      "[0, 1, 2, 56, 500, 6, 100] 4\n",
      "[0, 2, 4, 56, 500, 6, 100] 1\n",
      "[0, 1, 2, 4, 56, 6, 100] 500\n",
      "[0, 1, 2, 4, 56, 100, 500] 6\n",
      "[0, 1, 2, 4, 6, 100, 500] 56\n",
      "[0, 1, 2, 4, 6, 56, 100, 500]\n"
     ]
    }
   ],
   "source": [
    "#Quick Sort Pivot di tengah menaik\n",
    "def quicksortawal(a):\n",
    "    quicksort(a,0,len(a)-1)\n",
    "\n",
    "def quicksort(a,start,end):\n",
    "    if start < end:\n",
    "        pindex = partition(a,start,end)\n",
    "        quicksort(a,start,pindex-1)\n",
    "        quicksort(a,pindex+1,end)\n",
    "        \n",
    "def partition(a,start,end):\n",
    "    tengah = (start+end)//2\n",
    "    pivot = a.pop(tengah)\n",
    "    leftmark = start\n",
    "    rightmark = end-1\n",
    "    done = False\n",
    "    while not done:\n",
    "        print(a,pivot)\n",
    "        while leftmark <= rightmark and a[leftmark] <= pivot:\n",
    "            leftmark = leftmark + 1\n",
    "        while a[rightmark] >= pivot and rightmark >= leftmark:\n",
    "            rightmark = rightmark -1\n",
    "        if rightmark < leftmark:\n",
    "            done = True\n",
    "        else:\n",
    "            temp = a[leftmark]\n",
    "            a[leftmark] = a[rightmark]\n",
    "            a[rightmark] = temp\n",
    "    a.insert(leftmark,pivot)\n",
    "    return leftmark\n",
    "\n",
    "a=[100,6,500,4,56,2,1,0]\n",
    "quicksortawal(a)\n",
    "print(a)"
   ]
  },
  {
   "cell_type": "code",
   "execution_count": null,
   "metadata": {},
   "outputs": [],
   "source": []
  }
 ],
 "metadata": {
  "kernelspec": {
   "display_name": "Python 3",
   "language": "python",
   "name": "python3"
  },
  "language_info": {
   "codemirror_mode": {
    "name": "ipython",
    "version": 3
   },
   "file_extension": ".py",
   "mimetype": "text/x-python",
   "name": "python",
   "nbconvert_exporter": "python",
   "pygments_lexer": "ipython3",
   "version": "3.6.5"
  }
 },
 "nbformat": 4,
 "nbformat_minor": 2
}
