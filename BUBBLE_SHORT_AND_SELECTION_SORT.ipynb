{
 "cells": [
  {
   "cell_type": "code",
   "execution_count": 1,
   "metadata": {},
   "outputs": [
    {
     "name": "stdout",
     "output_type": "stream",
     "text": [
      "posisi awal  [23, 7, 32, 99, 4, 15, 11, 20]\n",
      "[4, 7, 11, 15, 20, 23, 32, 99]\n",
      "pencarian tidak ditemukan\n",
      "perulangan yang terjadi sebanyak  8\n"
     ]
    }
   ],
   "source": [
    "#bubble short + linear search\n",
    "def BubbleSort (val):\n",
    "    for x in range(len(val)-1,0,-1):\n",
    "        for i in range(x):\n",
    "            if val[i] > val[i+1]:\n",
    "                swap = val[i]\n",
    "                val[i]= val[i+1]\n",
    "                val[i+1] = swap\n",
    "Angka = [23,7,32,99,4,15,11,20]\n",
    "print(\"posisi awal \",Angka)\n",
    "BubbleSort(Angka)\n",
    "print(Angka)\n",
    "cari = 8\n",
    "posisi = 0\n",
    "akhir = len(Angka)-1\n",
    "iterasi = 0\n",
    "found = False\n",
    "while posisi <= akhir and not found: \n",
    "    iterasi += 1\n",
    "    if Angka[posisi] == cari:\n",
    "        found = True\n",
    "    else:\n",
    "        posisi += 1\n",
    "if found:\n",
    "    print(\"pencarian ditemukan\")\n",
    "    print(\"berada di index \",posisi)\n",
    "else:\n",
    "    print(\"pencarian tidak ditemukan\")\n",
    "print(\"perulangan yang terjadi sebanyak \",iterasi)"
   ]
  },
  {
   "cell_type": "code",
   "execution_count": 2,
   "metadata": {},
   "outputs": [
    {
     "name": "stdout",
     "output_type": "stream",
     "text": [
      "Buble Sort\n",
      "mylist = [10, 9, 8, 7, 6, 5, 4, 3, 2, 1]\n",
      "81\n"
     ]
    }
   ],
   "source": [
    "#Buble sort\n",
    "print(\"Buble Sort\")\n",
    "iterasi = 0\n",
    "mylist = [3,6,2,1,4,5,9,8,7,10]\n",
    "for i in range(1,len(mylist)):\n",
    "    for a in range(0,len(mylist)-1):\n",
    "        iterasi += 1\n",
    "        if mylist[a] < mylist[a+1]:\n",
    "            swap = mylist[a]\n",
    "            mylist[a]= mylist[a+1]\n",
    "            mylist[a+1] = swap\n",
    "print(\"mylist =\",mylist)\n",
    "print(iterasi)"
   ]
  },
  {
   "cell_type": "code",
   "execution_count": 3,
   "metadata": {},
   "outputs": [
    {
     "name": "stdout",
     "output_type": "stream",
     "text": [
      "mylist = [6, 5, 4, 3, 2, 1]\n",
      "25\n"
     ]
    }
   ],
   "source": [
    "#bubble short\n",
    "iterasi = 0\n",
    "mylist = [1,2,3,4,5,6]\n",
    "for i in range(1,len(mylist)):\n",
    "    for a in range(0,len(mylist)-1):\n",
    "        iterasi += 1\n",
    "        if mylist[a] < mylist[a+1]:\n",
    "            swap = mylist[a]\n",
    "            mylist[a]= mylist[a+1]\n",
    "            mylist[a+1] = swap\n",
    "print(\"mylist =\",mylist)\n",
    "print(iterasi)"
   ]
  },
  {
   "cell_type": "code",
   "execution_count": 4,
   "metadata": {},
   "outputs": [
    {
     "name": "stdout",
     "output_type": "stream",
     "text": [
      "[2, 1, 4, 6, 5, 7]\n",
      "[1, 2, 4, 6, 5, 7]\n",
      "[1, 2, 4, 6, 5, 7]\n",
      "[1, 2, 4, 6, 5, 7]\n",
      "[1, 2, 4, 5, 6, 7]\n",
      "[1, 2, 4, 5, 6, 7]\n",
      "[1, 2, 4, 5, 6, 7]\n",
      "[1, 2, 4, 5, 6, 7]\n",
      "[1, 2, 4, 5, 6, 7]\n",
      "[1, 2, 4, 5, 6, 7]\n",
      "[1, 2, 4, 5, 6, 7]\n",
      "[1, 2, 4, 5, 6, 7]\n",
      "[1, 2, 4, 5, 6, 7]\n",
      "[1, 2, 4, 5, 6, 7]\n",
      "[1, 2, 4, 5, 6, 7]\n",
      "[1, 2, 4, 5, 6, 7]\n",
      "[1, 2, 4, 5, 6, 7]\n",
      "[1, 2, 4, 5, 6, 7]\n",
      "[1, 2, 4, 5, 6, 7]\n",
      "[1, 2, 4, 5, 6, 7]\n",
      "[1, 2, 4, 5, 6, 7]\n",
      "[1, 2, 4, 5, 6, 7]\n",
      "[1, 2, 4, 5, 6, 7]\n",
      "[1, 2, 4, 5, 6, 7]\n",
      "[1, 2, 4, 5, 6, 7]\n",
      "x = [1, 2, 4, 5, 6, 7]\n",
      "25\n"
     ]
    }
   ],
   "source": [
    "#bubble short\n",
    "iterasi = 0\n",
    "x = [2,1,4,6,5,7]\n",
    "for i in range(1,len(x)):\n",
    "    for a in range(0,len(x)-1):\n",
    "        print(x)\n",
    "        iterasi += 1\n",
    "        if x[a] > x[a+1]:\n",
    "            swap = x[a]\n",
    "            x[a]= x[a+1]\n",
    "            x[a+1] = swap\n",
    "print(\"x =\",x)\n",
    "print(iterasi)"
   ]
  },
  {
   "cell_type": "code",
   "execution_count": 5,
   "metadata": {},
   "outputs": [
    {
     "name": "stdout",
     "output_type": "stream",
     "text": [
      "[2, 4, 1, 6, 5, 3]\n",
      "[2, 4, 1, 6, 5, 3]\n",
      "[2, 4, 1, 6, 5, 3]\n",
      "[2, 4, 1, 6, 5, 3]\n",
      "[2, 4, 1, 6, 5, 3]\n",
      "[2, 4, 3, 6, 5, 1]\n",
      "[2, 4, 3, 6, 5, 1]\n",
      "[2, 4, 3, 6, 5, 1]\n",
      "[2, 4, 3, 6, 5, 1]\n",
      "[5, 4, 3, 6, 2, 1]\n",
      "[5, 4, 3, 6, 2, 1]\n",
      "[5, 4, 3, 6, 2, 1]\n",
      "[5, 4, 6, 3, 2, 1]\n",
      "[5, 4, 6, 3, 2, 1]\n",
      "[5, 6, 4, 3, 2, 1]\n",
      "x = [6, 5, 4, 3, 2, 1]\n",
      "15\n"
     ]
    }
   ],
   "source": [
    "#selection short nilai minimum diposisi akhir index\n",
    "iterasi = 0\n",
    "x = [2,4,1,6,5,3]\n",
    "for i in range(len(x)-1,0,-1):\n",
    "    iMin = i\n",
    "    for j in range(i-1,-1,-1):\n",
    "        print(x)\n",
    "        iterasi += 1\n",
    "        if x[j] < x[iMin]:\n",
    "            iMin = j\n",
    "    swap = x[i]\n",
    "    x[i]= x[iMin]\n",
    "    x[iMin] = swap\n",
    "print(\"x =\",x)\n",
    "print(iterasi)\n"
   ]
  },
  {
   "cell_type": "code",
   "execution_count": 6,
   "metadata": {},
   "outputs": [
    {
     "name": "stdout",
     "output_type": "stream",
     "text": [
      "[5, 6, 3, 2, 1, 4]\n",
      "[5, 6, 3, 2, 1, 4]\n",
      "[5, 6, 3, 2, 1, 4]\n",
      "[5, 6, 3, 2, 1, 4]\n",
      "[5, 6, 3, 2, 1, 4]\n",
      "[1, 6, 3, 2, 5, 4]\n",
      "[1, 6, 3, 2, 5, 4]\n",
      "[1, 6, 3, 2, 5, 4]\n",
      "[1, 6, 3, 2, 5, 4]\n",
      "[1, 2, 3, 6, 5, 4]\n",
      "[1, 2, 3, 6, 5, 4]\n",
      "[1, 2, 3, 6, 5, 4]\n",
      "[1, 2, 3, 6, 5, 4]\n",
      "[1, 2, 3, 6, 5, 4]\n",
      "[1, 2, 3, 4, 5, 6]\n",
      "x = [1, 2, 3, 4, 5, 6]\n",
      "15\n"
     ]
    }
   ],
   "source": [
    "#selection short nilai minimum diposisi awal index\n",
    "iterasi = 0\n",
    "x = [5,6,3,2,1,4]\n",
    "for i in range(0,len(x)-1):\n",
    "    iMin = i\n",
    "    for j in range((i+1),len(x)):\n",
    "        print(x)\n",
    "        iterasi += 1\n",
    "        if x[j] < x[iMin]:\n",
    "            iMin = j\n",
    "    swap = x[i]\n",
    "    x[i]= x[iMin]\n",
    "    x[iMin] = swap\n",
    "print(\"x =\",x)\n",
    "print(iterasi)\n"
   ]
  },
  {
   "cell_type": "code",
   "execution_count": 7,
   "metadata": {},
   "outputs": [
    {
     "name": "stdout",
     "output_type": "stream",
     "text": [
      "[2, 4, 1, 6, 5, 3]\n",
      "[2, 4, 1, 6, 5, 3]\n",
      "[2, 4, 1, 6, 5, 3]\n",
      "[2, 4, 1, 6, 5, 3]\n",
      "[2, 4, 1, 6, 5, 3]\n",
      "[6, 4, 1, 2, 5, 3]\n",
      "[6, 4, 1, 2, 5, 3]\n",
      "[6, 4, 1, 2, 5, 3]\n",
      "[6, 4, 1, 2, 5, 3]\n",
      "[6, 5, 1, 2, 4, 3]\n",
      "[6, 5, 1, 2, 4, 3]\n",
      "[6, 5, 1, 2, 4, 3]\n",
      "[6, 5, 4, 2, 1, 3]\n",
      "[6, 5, 4, 2, 1, 3]\n",
      "[6, 5, 4, 3, 1, 2]\n",
      "x = [6, 5, 4, 3, 2, 1]\n",
      "15\n"
     ]
    }
   ],
   "source": [
    "#selection short nilai maximum diposisi awal index\n",
    "iterasi = 0\n",
    "x = [2,4,1,6,5,3]\n",
    "for i in range(0,len(x)-1):\n",
    "    iMin = i\n",
    "    for j in range(i+1,len(x)):\n",
    "        print(x)\n",
    "        iterasi += 1\n",
    "        if x[j] > x[iMin]:\n",
    "            iMin = j\n",
    "    swap = x[i]\n",
    "    x[i]= x[iMin]\n",
    "    x[iMin] = swap\n",
    "print(\"x =\",x)\n",
    "print(iterasi)"
   ]
  },
  {
   "cell_type": "code",
   "execution_count": 8,
   "metadata": {},
   "outputs": [
    {
     "name": "stdout",
     "output_type": "stream",
     "text": [
      "[5, 6, 3, 2, 1, 4]\n",
      "[5, 6, 3, 2, 1, 4]\n",
      "[5, 6, 3, 2, 1, 4]\n",
      "[5, 6, 3, 2, 1, 4]\n",
      "[5, 6, 3, 2, 1, 4]\n",
      "[5, 4, 3, 2, 1, 6]\n",
      "[5, 4, 3, 2, 1, 6]\n",
      "[5, 4, 3, 2, 1, 6]\n",
      "[5, 4, 3, 2, 1, 6]\n",
      "[1, 4, 3, 2, 5, 6]\n",
      "[1, 4, 3, 2, 5, 6]\n",
      "[1, 4, 3, 2, 5, 6]\n",
      "[1, 2, 3, 4, 5, 6]\n",
      "[1, 2, 3, 4, 5, 6]\n",
      "[1, 2, 3, 4, 5, 6]\n",
      "x = [1, 2, 3, 4, 5, 6]\n",
      "15\n"
     ]
    }
   ],
   "source": [
    "#selection short nilai maximum diposisi akhir index\n",
    "iterasi = 0\n",
    "x = [5,6,3,2,1,4]\n",
    "for i in range(len(x)-1,0,-1):\n",
    "    iMin = i\n",
    "    for j in range(i-1,-1,-1):\n",
    "        print(x)\n",
    "        iterasi += 1\n",
    "        if x[j] > x[iMin]:\n",
    "            iMin = j\n",
    "    swap = x[i]\n",
    "    x[i]= x[iMin]\n",
    "    x[iMin] = swap\n",
    "print(\"x =\",x)\n",
    "print(iterasi)"
   ]
  },
  {
   "cell_type": "code",
   "execution_count": null,
   "metadata": {},
   "outputs": [],
   "source": []
  }
 ],
 "metadata": {
  "kernelspec": {
   "display_name": "Python 3",
   "language": "python",
   "name": "python3"
  },
  "language_info": {
   "codemirror_mode": {
    "name": "ipython",
    "version": 3
   },
   "file_extension": ".py",
   "mimetype": "text/x-python",
   "name": "python",
   "nbconvert_exporter": "python",
   "pygments_lexer": "ipython3",
   "version": "3.6.5"
  }
 },
 "nbformat": 4,
 "nbformat_minor": 2
}
